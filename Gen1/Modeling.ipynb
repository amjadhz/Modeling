{
 "cells": [
  {
   "cell_type": "code",
   "execution_count": 9,
   "metadata": {},
   "outputs": [],
   "source": [
    "import pandas as pd\n",
    "import matplotlib.pyplot as plt\n",
    "import numpy as np\n",
    "import matplotlib.pyplot as plt\n",
    "from statsmodels.tsa.ar_model import AR\n",
    "from sklearn.metrics import mean_squared_error, mean_absolute_error"
   ]
  },
  {
   "cell_type": "code",
   "execution_count": 10,
   "metadata": {},
   "outputs": [
    {
     "data": {
      "text/html": [
       "<div>\n",
       "<style scoped>\n",
       "    .dataframe tbody tr th:only-of-type {\n",
       "        vertical-align: middle;\n",
       "    }\n",
       "\n",
       "    .dataframe tbody tr th {\n",
       "        vertical-align: top;\n",
       "    }\n",
       "\n",
       "    .dataframe thead th {\n",
       "        text-align: right;\n",
       "    }\n",
       "</style>\n",
       "<table border=\"1\" class=\"dataframe\">\n",
       "  <thead>\n",
       "    <tr style=\"text-align: right;\">\n",
       "      <th></th>\n",
       "      <th>Total Demand</th>\n",
       "    </tr>\n",
       "    <tr>\n",
       "      <th>Record Date</th>\n",
       "      <th></th>\n",
       "    </tr>\n",
       "  </thead>\n",
       "  <tbody>\n",
       "    <tr>\n",
       "      <th>2018-01-02</th>\n",
       "      <td>61336.0</td>\n",
       "    </tr>\n",
       "    <tr>\n",
       "      <th>2018-01-03</th>\n",
       "      <td>62174.0</td>\n",
       "    </tr>\n",
       "    <tr>\n",
       "      <th>2018-01-04</th>\n",
       "      <td>62063.0</td>\n",
       "    </tr>\n",
       "    <tr>\n",
       "      <th>2018-01-05</th>\n",
       "      <td>61359.0</td>\n",
       "    </tr>\n",
       "    <tr>\n",
       "      <th>2018-01-06</th>\n",
       "      <td>58766.0</td>\n",
       "    </tr>\n",
       "    <tr>\n",
       "      <th>...</th>\n",
       "      <td>...</td>\n",
       "    </tr>\n",
       "    <tr>\n",
       "      <th>2021-12-27</th>\n",
       "      <td>57385.0</td>\n",
       "    </tr>\n",
       "    <tr>\n",
       "      <th>2021-12-28</th>\n",
       "      <td>56398.0</td>\n",
       "    </tr>\n",
       "    <tr>\n",
       "      <th>2021-12-29</th>\n",
       "      <td>54512.0</td>\n",
       "    </tr>\n",
       "    <tr>\n",
       "      <th>2021-12-30</th>\n",
       "      <td>52256.0</td>\n",
       "    </tr>\n",
       "    <tr>\n",
       "      <th>2021-12-31</th>\n",
       "      <td>52904.0</td>\n",
       "    </tr>\n",
       "  </tbody>\n",
       "</table>\n",
       "<p>1459 rows × 1 columns</p>\n",
       "</div>"
      ],
      "text/plain": [
       "             Total Demand\n",
       "Record Date              \n",
       "2018-01-02        61336.0\n",
       "2018-01-03        62174.0\n",
       "2018-01-04        62063.0\n",
       "2018-01-05        61359.0\n",
       "2018-01-06        58766.0\n",
       "...                   ...\n",
       "2021-12-27        57385.0\n",
       "2021-12-28        56398.0\n",
       "2021-12-29        54512.0\n",
       "2021-12-30        52256.0\n",
       "2021-12-31        52904.0\n",
       "\n",
       "[1459 rows x 1 columns]"
      ]
     },
     "execution_count": 10,
     "metadata": {},
     "output_type": "execute_result"
    }
   ],
   "source": [
    "df = pd.read_csv('../../csv/Combined_Data_Frame.csv', index_col=0)\n",
    "df = df.sort_values('Record Date')\n",
    "df1 = df[['Total Demand']].copy()\n",
    "df1 =  df1.interpolate()\n",
    "df1 = df1[1:]\n",
    "df1"
   ]
  },
  {
   "cell_type": "code",
   "execution_count": 11,
   "metadata": {},
   "outputs": [],
   "source": [
    "# plt.figure(figsize=(15, 5))\n",
    "# plt.title(\"Seasonal Decompose - Observed\", loc = 'left')\n",
    "\n",
    "# plt.plot(result.observed)\n",
    "\n",
    "# plt.ylabel(\"Electricity Demand | MW\")\n",
    "# plt.show()"
   ]
  },
  {
   "cell_type": "code",
   "execution_count": 12,
   "metadata": {},
   "outputs": [],
   "source": [
    "# plt.figure(figsize=(15, 5))\n",
    "# plt.title(\"Seasonal Decompose - Trend\", loc = 'left')\n",
    "\n",
    "# plt.plot(result.trend)\n",
    "\n",
    "# plt.ylabel(\"Electricity Demand | MW\")\n",
    "\n",
    "# plt.show()"
   ]
  },
  {
   "cell_type": "code",
   "execution_count": 13,
   "metadata": {},
   "outputs": [],
   "source": [
    "# plt.figure(figsize=(15, 5))\n",
    "# plt.title(\"Seasonal Decompose - Seasonal\", loc = 'left')\n",
    "\n",
    "# plt.plot(result.seasonal)\n",
    "\n",
    "# plt.ylabel(\"Electricity Demand | MW\")\n",
    "# plt.show()"
   ]
  },
  {
   "cell_type": "code",
   "execution_count": 28,
   "metadata": {},
   "outputs": [
    {
     "name": "stdout",
     "output_type": "stream",
     "text": [
      "30\n",
      "1428\n"
     ]
    },
    {
     "name": "stderr",
     "output_type": "stream",
     "text": [
      "/Users/daniilsaleksasins/opt/anaconda3/lib/python3.9/site-packages/statsmodels/tsa/ar_model.py:791: FutureWarning: \n",
      "statsmodels.tsa.AR has been deprecated in favor of statsmodels.tsa.AutoReg and\n",
      "statsmodels.tsa.SARIMAX.\n",
      "\n",
      "AutoReg adds the ability to specify exogenous variables, include time trends,\n",
      "and add seasonal dummies. The AutoReg API differs from AR since the model is\n",
      "treated as immutable, and so the entire specification including the lag\n",
      "length must be specified when creating the model. This change is too\n",
      "substantial to incorporate into the existing AR api. The function\n",
      "ar_select_order performs lag length selection for AutoReg models.\n",
      "\n",
      "AutoReg only estimates parameters using conditional MLE (OLS). Use SARIMAX to\n",
      "estimate ARX and related models using full MLE via the Kalman Filter.\n",
      "\n",
      "To silence this warning and continue using AR until it is removed, use:\n",
      "\n",
      "import warnings\n",
      "warnings.filterwarnings('ignore', 'statsmodels.tsa.ar_model.AR', FutureWarning)\n",
      "\n",
      "  warnings.warn(AR_DEPRECATION_WARN, FutureWarning)\n"
     ]
    },
    {
     "data": {
      "image/png": "[encoded data removed]",
      "text/plain": [
       "<Figure size 720x360 with 1 Axes>"
      ]
     },
     "metadata": {
      "needs_background": "light"
     },
     "output_type": "display_data"
    },
    {
     "name": "stdout",
     "output_type": "stream",
     "text": [
      "MAE: 5333.991\n"
     ]
    }
   ],
   "source": [
    "#How far in the Future do you want to predict\n",
    "#Further you go the least precises the Model prediction will be\n",
    "Period = 30\n",
    "\n",
    "X = df1.values\n",
    "train, test = X[1:len(X)-Period], X[len(X)-Period:]\n",
    "\n",
    "print(len(X[len(X)-Period:]))\n",
    "\n",
    "\n",
    "print(len(X[1:len(X)-Period]))\n",
    "\n",
    "mean = []\n",
    "mean2 = []\n",
    "mean3 = []\n",
    "\n",
    "# autoregression\n",
    "model = AR(train)\n",
    "model_fit = model.fit()\n",
    "\n",
    "# predictions\n",
    "predictions = model_fit.predict(start=len(train), end=len(train)+len(test)-1, dynamic=False)\n",
    "\n",
    "# creating mean array to plot it\n",
    "# Mean of the testing\n",
    "for i in range(len(test)):\n",
    "    mean.append(predictions.mean())\n",
    "    mean2.append(test.mean())\n",
    "    mean3.append(df1.values.mean())\n",
    "\n",
    "plt.figure(figsize=(10, 5))\n",
    "plt.title(\"1st Generation: Electricity Demand Prediction | Day Count %.3f\" % Period, loc = 'left')\n",
    "\n",
    "plt.plot(test, color='blue', label='Demand Test')\n",
    "plt.plot(predictions, color='red', label = 'Demand Prediction')\n",
    "\n",
    "# plt.plot(mean, color='red', label='Prediction mean', linestyle=':')\n",
    "# plt.plot(mean2, color='blue', label='Test Mean', linestyle=':')\n",
    "plt.plot(mean3, color='green', label='Benchmark', linestyle=':')\n",
    "\n",
    "plt.ylabel(\"Electricity Demand | MW\")\n",
    "plt.xlabel(\"Time Period | Day\")\n",
    "\n",
    "plt.legend()\n",
    "plt.show()\n",
    "\n",
    "# print(\"Test mean: %.3f\" % test.mean())\n",
    "# print(\"Predictions mean: %.3f\" % predictions.mean())\n",
    "# print(\"Total mean: %.3f\" % df1.values.mean())\n",
    "\n",
    "# mse = mean_squared_error(test, predictions, squared=False)\n",
    "# print('Mean Squared Error: %.3f' % mse)\n",
    "\n",
    "mae = mean_absolute_error(test, predictions)\n",
    "print('MAE: %.3f' % mae)\n",
    "\n",
    "# mae = mean_absolute_error(test, mean)\n",
    "# print('Mean Absolute Error of Benchmark: %.3f' % mae)"
   ]
  },
  {
   "cell_type": "code",
   "execution_count": 25,
   "metadata": {},
   "outputs": [
    {
     "name": "stdout",
     "output_type": "stream",
     "text": [
      "Mean Absolute Error of Benchmark: 8256.377\n"
     ]
    }
   ],
   "source": [
    "mae = mean_absolute_error(test, mean)\n",
    "print('Mean Absolute Error of Benchmark: %.3f' % mae)"
   ]
  },
  {
   "cell_type": "code",
   "execution_count": 27,
   "metadata": {},
   "outputs": [
    {
     "data": {
      "text/plain": [
       "array([[70238.],\n",
       "       [71784.],\n",
       "       [61493.],\n",
       "       [62539.],\n",
       "       [69489.],\n",
       "       [70212.],\n",
       "       [70810.],\n",
       "       [71875.],\n",
       "       [70884.],\n",
       "       [66061.],\n",
       "       [61453.],\n",
       "       [67065.],\n",
       "       [69332.],\n",
       "       [69180.],\n",
       "       [68516.],\n",
       "       [68220.],\n",
       "       [64158.],\n",
       "       [64152.],\n",
       "       [71272.],\n",
       "       [73845.],\n",
       "       [75829.],\n",
       "       [69850.],\n",
       "       [60680.],\n",
       "       [53502.],\n",
       "       [53524.],\n",
       "       [57385.],\n",
       "       [56398.],\n",
       "       [54512.],\n",
       "       [52256.],\n",
       "       [52904.]])"
      ]
     },
     "execution_count": 27,
     "metadata": {},
     "output_type": "execute_result"
    }
   ],
   "source": [
    "test"
   ]
  }
 ],
 "metadata": {
  "interpreter": {
   "hash": "045dd2249ae4d704b690c9297cc8da991e127deade7dde291bfbb892d21e0a76"
  },
  "kernelspec": {
   "display_name": "Python 3.9.7 ('base')",
   "language": "python",
   "name": "python3"
  },
  "language_info": {
   "codemirror_mode": {
    "name": "ipython",
    "version": 3
   },
   "file_extension": ".py",
   "mimetype": "text/x-python",
   "name": "python",
   "nbconvert_exporter": "python",
   "pygments_lexer": "ipython3",
   "version": "3.9.7"
  },
  "orig_nbformat": 4
 },
 "nbformat": 4,
 "nbformat_minor": 2
}
