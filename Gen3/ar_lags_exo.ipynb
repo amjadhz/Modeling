{
 "cells": [
  {
   "cell_type": "code",
   "execution_count": 58,
   "metadata": {},
   "outputs": [],
   "source": [
    "import pandas as pd\n",
    "import numpy as np\n",
    "import matplotlib.pyplot as plt\n",
    "from statsmodels.tsa.ar_model import AR #This is the autogression model we know from previous iteration\n",
    "from sklearn.metrics import mean_squared_error, mean_absolute_error"
   ]
  },
  {
   "cell_type": "markdown",
   "metadata": {},
   "source": [
    "### Setting up Data Frames for the project!"
   ]
  },
  {
   "cell_type": "code",
   "execution_count": 59,
   "metadata": {},
   "outputs": [
    {
     "data": {
      "text/html": [
       "<div>\n",
       "<style scoped>\n",
       "    .dataframe tbody tr th:only-of-type {\n",
       "        vertical-align: middle;\n",
       "    }\n",
       "\n",
       "    .dataframe tbody tr th {\n",
       "        vertical-align: top;\n",
       "    }\n",
       "\n",
       "    .dataframe thead th {\n",
       "        text-align: right;\n",
       "    }\n",
       "</style>\n",
       "<table border=\"1\" class=\"dataframe\">\n",
       "  <thead>\n",
       "    <tr style=\"text-align: right;\">\n",
       "      <th></th>\n",
       "      <th>Total Demand</th>\n",
       "      <th>Wind Speed</th>\n",
       "      <th>Air Temperature</th>\n",
       "    </tr>\n",
       "    <tr>\n",
       "      <th>Record Date</th>\n",
       "      <th></th>\n",
       "      <th></th>\n",
       "      <th></th>\n",
       "    </tr>\n",
       "  </thead>\n",
       "  <tbody>\n",
       "    <tr>\n",
       "      <th>2018-01-02</th>\n",
       "      <td>61336.0</td>\n",
       "      <td>22.65</td>\n",
       "      <td>6.10</td>\n",
       "    </tr>\n",
       "    <tr>\n",
       "      <th>2018-01-03</th>\n",
       "      <td>62174.0</td>\n",
       "      <td>28.72</td>\n",
       "      <td>9.03</td>\n",
       "    </tr>\n",
       "    <tr>\n",
       "      <th>2018-01-04</th>\n",
       "      <td>62063.0</td>\n",
       "      <td>22.69</td>\n",
       "      <td>9.87</td>\n",
       "    </tr>\n",
       "    <tr>\n",
       "      <th>2018-01-05</th>\n",
       "      <td>61359.0</td>\n",
       "      <td>20.38</td>\n",
       "      <td>8.30</td>\n",
       "    </tr>\n",
       "    <tr>\n",
       "      <th>2018-01-06</th>\n",
       "      <td>58766.0</td>\n",
       "      <td>16.29</td>\n",
       "      <td>5.91</td>\n",
       "    </tr>\n",
       "    <tr>\n",
       "      <th>...</th>\n",
       "      <td>...</td>\n",
       "      <td>...</td>\n",
       "      <td>...</td>\n",
       "    </tr>\n",
       "    <tr>\n",
       "      <th>2021-12-27</th>\n",
       "      <td>57385.0</td>\n",
       "      <td>26.79</td>\n",
       "      <td>7.90</td>\n",
       "    </tr>\n",
       "    <tr>\n",
       "      <th>2021-12-28</th>\n",
       "      <td>56398.0</td>\n",
       "      <td>21.86</td>\n",
       "      <td>9.53</td>\n",
       "    </tr>\n",
       "    <tr>\n",
       "      <th>2021-12-29</th>\n",
       "      <td>54512.0</td>\n",
       "      <td>18.87</td>\n",
       "      <td>10.82</td>\n",
       "    </tr>\n",
       "    <tr>\n",
       "      <th>2021-12-30</th>\n",
       "      <td>52256.0</td>\n",
       "      <td>17.96</td>\n",
       "      <td>10.78</td>\n",
       "    </tr>\n",
       "    <tr>\n",
       "      <th>2021-12-31</th>\n",
       "      <td>52904.0</td>\n",
       "      <td>15.61</td>\n",
       "      <td>8.91</td>\n",
       "    </tr>\n",
       "  </tbody>\n",
       "</table>\n",
       "<p>1459 rows × 3 columns</p>\n",
       "</div>"
      ],
      "text/plain": [
       "             Total Demand  Wind Speed  Air Temperature\n",
       "Record Date                                           \n",
       "2018-01-02        61336.0       22.65             6.10\n",
       "2018-01-03        62174.0       28.72             9.03\n",
       "2018-01-04        62063.0       22.69             9.87\n",
       "2018-01-05        61359.0       20.38             8.30\n",
       "2018-01-06        58766.0       16.29             5.91\n",
       "...                   ...         ...              ...\n",
       "2021-12-27        57385.0       26.79             7.90\n",
       "2021-12-28        56398.0       21.86             9.53\n",
       "2021-12-29        54512.0       18.87            10.82\n",
       "2021-12-30        52256.0       17.96            10.78\n",
       "2021-12-31        52904.0       15.61             8.91\n",
       "\n",
       "[1459 rows x 3 columns]"
      ]
     },
     "execution_count": 59,
     "metadata": {},
     "output_type": "execute_result"
    }
   ],
   "source": [
    "df = pd.read_csv('../../csv/Combined_Data_Frame.csv', header=0, index_col=0, parse_dates=True, squeeze=True)\n",
    "# df = pd.read_csv('../../csv/demand_2.csv', header=0, index_col=0, parse_dates=True, squeeze=True)\n",
    "df = df.sort_values('Record Date')\n",
    "df = df.interpolate()\n",
    "df = df.drop(['Air Temperature(Apparent)', 'Cloud Coverage'], axis=1) \n",
    "df = df[1:]\n",
    "df"
   ]
  },
  {
   "cell_type": "code",
   "execution_count": 60,
   "metadata": {},
   "outputs": [],
   "source": [
    "# Setting the prediction period\n",
    "period = 29"
   ]
  },
  {
   "cell_type": "markdown",
   "metadata": {},
   "source": [
    "### Auto corelation checking "
   ]
  },
  {
   "cell_type": "code",
   "execution_count": 61,
   "metadata": {},
   "outputs": [
    {
     "data": {
      "image/png": "[encoded data removed]",
      "text/plain": [
       "<Figure size 432x288 with 1 Axes>"
      ]
     },
     "execution_count": 61,
     "metadata": {},
     "output_type": "execute_result"
    },
    {
     "data": {
      "image/png": "[encoded data removed]",
      "text/plain": [
       "<Figure size 432x288 with 1 Axes>"
      ]
     },
     "metadata": {
      "needs_background": "light"
     },
     "output_type": "display_data"
    },
    {
     "data": {
      "image/png": "[encoded data removed]",
      "text/plain": [
       "<Figure size 432x288 with 1 Axes>"
      ]
     },
     "metadata": {
      "needs_background": "light"
     },
     "output_type": "display_data"
    }
   ],
   "source": [
    "from statsmodels.graphics.tsaplots import plot_acf, plot_pacf\n",
    "\n",
    "cr = df.copy()\n",
    "cr = cr.drop(['Wind Speed', 'Air Temperature'], axis=1)\n",
    "\n",
    "\n",
    "plot_acf(cr, lags=31)\n",
    "plot_pacf(cr, lags=31)"
   ]
  },
  {
   "cell_type": "markdown",
   "metadata": {},
   "source": [
    "### Original Model"
   ]
  },
  {
   "cell_type": "code",
   "execution_count": 62,
   "metadata": {},
   "outputs": [],
   "source": [
    "# X = cr.values #I'm using the second example data here (airline passengers)\n",
    "# train, test = X[1:len(X)-period], X[len(X)-period:] #we predict for ony 30 days for example\n",
    "\n",
    "# # train autoregression\n",
    "# model = AR(train)\n",
    "# model_fit = model.fit()\n",
    "\n",
    "# # print('Lag: %s' % model_fit.k_ar) #here we can access the perfect lag to use when we want to finetune other versions of our model\n",
    "# # print('Coefficients: %s' % model_fit.params) #here we access the coefficients computed per lag (shift of our time window)\n",
    "\n",
    "# # make predictions\n",
    "# predictions = model_fit.predict(start=len(train), end=len(train)+len(test)-1, dynamic=False)\n",
    "\n",
    "# # plot results\n",
    "# plt.figure(figsize=(10, 5))\n",
    "# plt.title(\"1st Generation: Electricity Demand Prediction | Day Count %.3f\" % period, loc = 'left')\n",
    "\n",
    "# plt.plot(test, color='blue', label='Demand Test')\n",
    "# plt.plot(predictions, color='red', label = 'Demand Prediction')\n",
    "\n",
    "# plt.ylabel(\"Electricity Demand | MW\")\n",
    "# plt.xlabel(\"Time Period | Day\")\n",
    "\n",
    "# plt.legend()\n",
    "# plt.show()\n",
    "\n",
    "# mae = mean_absolute_error(test, predictions)\n",
    "# print('MAE: %.3f' % mae)\n",
    "\n",
    "# rmse = mean_squared_error(test, predictions, squared=False)\n",
    "# print('RMSE: %.3f' % rmse)\n",
    "\n",
    "# from sklearn.metrics import mean_absolute_percentage_error\n",
    "# mape = mean_absolute_percentage_error(test, predictions) * 100\n",
    "# print('MAPE: %.3f' % mape)"
   ]
  },
  {
   "cell_type": "markdown",
   "metadata": {},
   "source": [
    "### Creating model with lags"
   ]
  },
  {
   "cell_type": "code",
   "execution_count": 63,
   "metadata": {},
   "outputs": [],
   "source": [
    "# from statsmodels.tsa.ar_model import ar_select_order #we can use this function to select the lags with the most autocorrelation\n",
    "# from statsmodels.tsa.ar_model import AutoReg #The AutoReg(ression) model is the updated version of the AR model. The mathematical concept is the same, there's just more parameters we can finetune to make the model fit our data better.\n",
    "# from sklearn.metrics import mean_absolute_percentage_error\n",
    "\n",
    "# lags = ar_select_order(train, maxlag=31, seasonal=True, period=12)\n",
    "# # print(lags.ar_lags)\n",
    "\n",
    "# auto = AutoReg(train, lags=lags.ar_lags, trend=\"ct\", seasonal=True, period=12).fit() #use the lag data we've selected as the ideal lags above, trend indicates whether to look at the trend too or only the constant values (or both)\n",
    "# predictions = auto.predict(start=len(train), end=len(train)+len(test)-1)\n",
    "# # for i in range(len(predictions)):\n",
    "# #     print('predicted=%f, actual=%f' % (predictions[i], test[i]))\n",
    "    \n",
    "\n",
    "# plt.figure(figsize=(10, 5))\n",
    "# plt.title(\"1st Generation + LAGS : Electricity Demand Prediction | Day Count %.3f\" % period, loc = 'left')\n",
    "\n",
    "# plt.plot(test, color='blue', label='Demand Test')\n",
    "# plt.plot(predictions, color='red', label = 'Demand Prediction')\n",
    "\n",
    "# plt.ylabel(\"Electricity Demand | MW\")\n",
    "# plt.xlabel(\"Time Period | Day\")\n",
    "\n",
    "# plt.legend()\n",
    "# plt.show()\n",
    "\n",
    "\n",
    "# mae = mean_absolute_error(test, predictions)\n",
    "# print('MAE: %.3f' % mae)\n",
    "# rmse = mean_squared_error(test, predictions, squared=False)\n",
    "# print('RMSE: %.3f' % rmse)\n",
    "\n",
    "# # mape = mean_absolute_percentage_error(test, predictions)\n",
    "# # print('MAPE: %.3f' % mape)\n",
    "\n",
    "# from sklearn.metrics import mean_absolute_percentage_error\n",
    "# mape = mean_absolute_percentage_error(test, predictions) * 100\n",
    "# print('MAPE: %.3f' % mape)"
   ]
  },
  {
   "cell_type": "markdown",
   "metadata": {},
   "source": [
    "### 3rd Generation AR model with the EXO variables"
   ]
  },
  {
   "cell_type": "code",
   "execution_count": 64,
   "metadata": {},
   "outputs": [
    {
     "data": {
      "text/html": [
       "<div>\n",
       "<style scoped>\n",
       "    .dataframe tbody tr th:only-of-type {\n",
       "        vertical-align: middle;\n",
       "    }\n",
       "\n",
       "    .dataframe tbody tr th {\n",
       "        vertical-align: top;\n",
       "    }\n",
       "\n",
       "    .dataframe thead th {\n",
       "        text-align: right;\n",
       "    }\n",
       "</style>\n",
       "<table border=\"1\" class=\"dataframe\">\n",
       "  <thead>\n",
       "    <tr style=\"text-align: right;\">\n",
       "      <th></th>\n",
       "      <th>Total Demand</th>\n",
       "      <th>Wind Speed</th>\n",
       "      <th>Air Temperature(Apparent)</th>\n",
       "      <th>Air Temperature</th>\n",
       "      <th>Cloud Coverage</th>\n",
       "    </tr>\n",
       "    <tr>\n",
       "      <th>Record Date</th>\n",
       "      <th></th>\n",
       "      <th></th>\n",
       "      <th></th>\n",
       "      <th></th>\n",
       "      <th></th>\n",
       "    </tr>\n",
       "  </thead>\n",
       "  <tbody>\n",
       "    <tr>\n",
       "      <th>2018-01-02</th>\n",
       "      <td>61336.0</td>\n",
       "      <td>22.65</td>\n",
       "      <td>15.35</td>\n",
       "      <td>6.10</td>\n",
       "      <td>78.58</td>\n",
       "    </tr>\n",
       "    <tr>\n",
       "      <th>2018-01-03</th>\n",
       "      <td>62174.0</td>\n",
       "      <td>28.72</td>\n",
       "      <td>20.15</td>\n",
       "      <td>9.03</td>\n",
       "      <td>93.00</td>\n",
       "    </tr>\n",
       "    <tr>\n",
       "      <th>2018-01-04</th>\n",
       "      <td>62063.0</td>\n",
       "      <td>22.69</td>\n",
       "      <td>19.00</td>\n",
       "      <td>9.87</td>\n",
       "      <td>92.93</td>\n",
       "    </tr>\n",
       "    <tr>\n",
       "      <th>2018-01-05</th>\n",
       "      <td>61359.0</td>\n",
       "      <td>20.38</td>\n",
       "      <td>18.35</td>\n",
       "      <td>8.30</td>\n",
       "      <td>84.29</td>\n",
       "    </tr>\n",
       "    <tr>\n",
       "      <th>2018-01-06</th>\n",
       "      <td>58766.0</td>\n",
       "      <td>16.29</td>\n",
       "      <td>15.82</td>\n",
       "      <td>5.91</td>\n",
       "      <td>89.51</td>\n",
       "    </tr>\n",
       "    <tr>\n",
       "      <th>...</th>\n",
       "      <td>...</td>\n",
       "      <td>...</td>\n",
       "      <td>...</td>\n",
       "      <td>...</td>\n",
       "      <td>...</td>\n",
       "    </tr>\n",
       "    <tr>\n",
       "      <th>2021-12-27</th>\n",
       "      <td>57385.0</td>\n",
       "      <td>26.79</td>\n",
       "      <td>16.47</td>\n",
       "      <td>7.90</td>\n",
       "      <td>90.19</td>\n",
       "    </tr>\n",
       "    <tr>\n",
       "      <th>2021-12-28</th>\n",
       "      <td>56398.0</td>\n",
       "      <td>21.86</td>\n",
       "      <td>16.37</td>\n",
       "      <td>9.53</td>\n",
       "      <td>93.61</td>\n",
       "    </tr>\n",
       "    <tr>\n",
       "      <th>2021-12-29</th>\n",
       "      <td>54512.0</td>\n",
       "      <td>18.87</td>\n",
       "      <td>20.07</td>\n",
       "      <td>10.82</td>\n",
       "      <td>97.43</td>\n",
       "    </tr>\n",
       "    <tr>\n",
       "      <th>2021-12-30</th>\n",
       "      <td>52256.0</td>\n",
       "      <td>17.96</td>\n",
       "      <td>19.26</td>\n",
       "      <td>10.78</td>\n",
       "      <td>62.21</td>\n",
       "    </tr>\n",
       "    <tr>\n",
       "      <th>2021-12-31</th>\n",
       "      <td>52904.0</td>\n",
       "      <td>15.61</td>\n",
       "      <td>19.05</td>\n",
       "      <td>8.91</td>\n",
       "      <td>29.53</td>\n",
       "    </tr>\n",
       "  </tbody>\n",
       "</table>\n",
       "<p>1459 rows × 5 columns</p>\n",
       "</div>"
      ],
      "text/plain": [
       "             Total Demand  Wind Speed  Air Temperature(Apparent)  \\\n",
       "Record Date                                                        \n",
       "2018-01-02        61336.0       22.65                      15.35   \n",
       "2018-01-03        62174.0       28.72                      20.15   \n",
       "2018-01-04        62063.0       22.69                      19.00   \n",
       "2018-01-05        61359.0       20.38                      18.35   \n",
       "2018-01-06        58766.0       16.29                      15.82   \n",
       "...                   ...         ...                        ...   \n",
       "2021-12-27        57385.0       26.79                      16.47   \n",
       "2021-12-28        56398.0       21.86                      16.37   \n",
       "2021-12-29        54512.0       18.87                      20.07   \n",
       "2021-12-30        52256.0       17.96                      19.26   \n",
       "2021-12-31        52904.0       15.61                      19.05   \n",
       "\n",
       "             Air Temperature  Cloud Coverage  \n",
       "Record Date                                   \n",
       "2018-01-02              6.10           78.58  \n",
       "2018-01-03              9.03           93.00  \n",
       "2018-01-04              9.87           92.93  \n",
       "2018-01-05              8.30           84.29  \n",
       "2018-01-06              5.91           89.51  \n",
       "...                      ...             ...  \n",
       "2021-12-27              7.90           90.19  \n",
       "2021-12-28              9.53           93.61  \n",
       "2021-12-29             10.82           97.43  \n",
       "2021-12-30             10.78           62.21  \n",
       "2021-12-31              8.91           29.53  \n",
       "\n",
       "[1459 rows x 5 columns]"
      ]
     },
     "execution_count": 64,
     "metadata": {},
     "output_type": "execute_result"
    }
   ],
   "source": [
    "df2 = pd.read_csv('../../csv/Combined_Data_Frame.csv', header=0, index_col=0, parse_dates=True, squeeze=True)\n",
    "# df2 = pd.read_csv('../../csv/demand_2.csv', header=0, index_col=0, parse_dates=True, squeeze=True)\n",
    "df2 = df2.sort_values('Record Date')\n",
    "df2 = df2.interpolate() \n",
    "df2 = df2[1:]\n",
    "df2"
   ]
  },
  {
   "cell_type": "code",
   "execution_count": 65,
   "metadata": {},
   "outputs": [],
   "source": [
    "X = df2['Total Demand'].values \n",
    "train, test = X[1:len(X)-period], X[len(X)-period:]\n",
    "\n",
    "w = df2['Wind Speed'].values\n",
    "w_train, w_test = w[1:len(w)-period], w[len(w)-period:]\n",
    "\n",
    "a = df2['Air Temperature'].values\n",
    "a_train, a_test = a[1:len(a)-period], a[len(a)-period:] \n",
    "\n",
    "# ap = df2['Air Temperature(Apparent)'].values\n",
    "# ap_train, ap_test = ap[1:len(ap)-period], ap[len(ap)-period:] \n",
    "\n",
    "c = df2['Cloud Coverage'].values\n",
    "c_train, c_test = c[1:len(c)-period], c[len(c)-period:] \n",
    "\n",
    "array_train = np.array([a_train, c_train])\n",
    "array_test = np.array([a_test, c_test])\n",
    "\n",
    "array_train = array_train.reshape((1429,  2)) \n",
    "array_test = array_test.reshape((period, 2))"
   ]
  },
  {
   "cell_type": "markdown",
   "metadata": {},
   "source": [
    "### Checking if everything works before adding the EXO"
   ]
  },
  {
   "cell_type": "code",
   "execution_count": 66,
   "metadata": {},
   "outputs": [],
   "source": [
    "# from statsmodels.tsa.ar_model import AR\n",
    "\n",
    "# # train \n",
    "# model = AR(train)\n",
    "# model_fit = model.fit()\n",
    "\n",
    "# # make predictions\n",
    "# predictions = model_fit.predict(start=len(train), end=len(train)+len(test)-1, dynamic=False)\n",
    "# # for i in range(len(predictions)):\n",
    "# #     print('predicted=%f, actual=%f' % (predictions[i], test[i]))\n",
    "\n",
    "# # plot results\n",
    "# plt.plot(test)\n",
    "# plt.plot(predictions, color='red')\n",
    "# plt.show()\n",
    "\n",
    "# rmse = mean_squared_error(test, predictions, squared=False)\n",
    "# print('Test RMSE: %.3f' % rmse)\n",
    "\n",
    "# mae = mean_absolute_error(test, predictions)\n",
    "# print('MAE: %.3f' % mae)\n",
    "\n",
    "# from sklearn.metrics import mean_absolute_percentage_error\n",
    "# mape = mean_absolute_percentage_error(test, predictions) * 100\n",
    "# print('MAPE: %.3f' % mape)"
   ]
  },
  {
   "cell_type": "markdown",
   "metadata": {},
   "source": [
    "### EXO Model"
   ]
  },
  {
   "cell_type": "code",
   "execution_count": 67,
   "metadata": {},
   "outputs": [
    {
     "name": "stderr",
     "output_type": "stream",
     "text": [
      "/Users/daniilsaleksasins/opt/anaconda3/lib/python3.9/site-packages/statsmodels/tsa/ar_model.py:248: FutureWarning: The parameter names will change after 0.12 is released. Set old_names to False to use the new names now. Set old_names to True to use the old names. \n",
      "  warnings.warn(\n"
     ]
    }
   ],
   "source": [
    "from statsmodels.tsa.ar_model import AutoReg\n",
    "from statsmodels.tsa.ar_model import ar_select_order\n",
    "\n",
    "lags = ar_select_order(train, maxlag=30, seasonal=False, period=12)\n",
    "\n",
    "auto = AutoReg(train, lags=lags.ar_lags, trend=\"t\", seasonal=True, exog=array_train, period=12).fit()\n",
    "predictions = auto.predict(start=len(train), end=len(train)+len(test)-1, exog_oos=array_test)\n"
   ]
  },
  {
   "cell_type": "code",
   "execution_count": 68,
   "metadata": {},
   "outputs": [
    {
     "data": {
      "image/png": "[encoded data removed]",
      "text/plain": [
       "<Figure size 720x360 with 1 Axes>"
      ]
     },
     "metadata": {
      "needs_background": "light"
     },
     "output_type": "display_data"
    },
    {
     "name": "stdout",
     "output_type": "stream",
     "text": [
      "MAE: 4420.772\n",
      "RMSE: 6350.205\n",
      "MAPE: 7.525\n"
     ]
    }
   ],
   "source": [
    "plt.figure(figsize=(10, 5))\n",
    "plt.title(\"3rd Generation: Electricity Demand Prediction | Day Count %.3f\" % period, loc = 'left')\n",
    "\n",
    "plt.plot(test, color='blue', label='Demand Test')\n",
    "plt.plot(predictions, color='red', label = 'Demand Prediction')\n",
    "\n",
    "\n",
    "plt.ylabel(\"Electricity Demand | MW\")\n",
    "plt.xlabel(\"Time Period | Day\")\n",
    "\n",
    "plt.legend()\n",
    "plt.show()\n",
    "\n",
    "mae = mean_absolute_error(test, predictions)\n",
    "print('MAE: %.3f' % mae)\n",
    "\n",
    "rmse = mean_squared_error(test, predictions, squared=False)\n",
    "print('RMSE: %.3f' % rmse)\n",
    "\n",
    "from sklearn.metrics import mean_absolute_percentage_error\n",
    "mape = mean_absolute_percentage_error(test, predictions) * 100\n",
    "print('MAPE: %.3f' % mape)"
   ]
  }
 ],
 "metadata": {
  "interpreter": {
   "hash": "045dd2249ae4d704b690c9297cc8da991e127deade7dde291bfbb892d21e0a76"
  },
  "kernelspec": {
   "display_name": "Python 3.9.7 ('base')",
   "language": "python",
   "name": "python3"
  },
  "language_info": {
   "codemirror_mode": {
    "name": "ipython",
    "version": 3
   },
   "file_extension": ".py",
   "mimetype": "text/x-python",
   "name": "python",
   "nbconvert_exporter": "python",
   "pygments_lexer": "ipython3",
   "version": "3.9.7"
  },
  "orig_nbformat": 4
 },
 "nbformat": 4,
 "nbformat_minor": 2
}
